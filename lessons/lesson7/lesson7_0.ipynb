{
 "cells": [
  {
   "cell_type": "markdown",
   "metadata": {},
   "source": [
    "x=str\n",
    "print(x.upper())   #可以把x裡的文字全部變大寫\n",
    "\n",
    "while bool:\n",
    "    xxxxxx\n",
    "    continue   #直接重複執行\n",
    "    xxxxxx\n",
    "    break   #跳出迴圈\n",
    "======================================\n",
    "python 基本資料結構  一個變數存多個值\n",
    "1. tuple          t1= (20,50,70)\n",
    "2. list           l1= [1, 2, 3]\n",
    "3. dictionary     d1= {'one':1,'two':2,'three':3}\n",
    "4. set            s1= {1, 2, 3}\n",
    "======================================\n",
    "tuple不可以被更改\n",
    "(chinese,english,math)=(50,90,40)\n",
    "也可以寫成\n",
    "chinese,english,math=50,90,40\n"
   ]
  },
  {
   "cell_type": "code",
   "execution_count": 1,
   "metadata": {},
   "outputs": [
    {
     "name": "stdout",
     "output_type": "stream",
     "text": [
      "\n",
      "A\n",
      "S\n",
      "D\n",
      "W\n",
      "F\n",
      "A\n",
      "T\n",
      "<class 'str'>\n"
     ]
    }
   ],
   "source": [
    "x=input(\"if you wan to quit type q\")\n",
    "while x!=\"q\":\n",
    "    print(x.upper())\n",
    "    x=input(\"if you wan to quit type q\")\n",
    "print(type(x))"
   ]
  },
  {
   "cell_type": "code",
   "execution_count": 5,
   "metadata": {},
   "outputs": [
    {
     "name": "stdout",
     "output_type": "stream",
     "text": [
      "應用程式結束\n"
     ]
    }
   ],
   "source": [
    "while True:\n",
    "    stuff = input(\"請輸入小寫英文字[按q會離開]\")\n",
    "    if stuff == 'q':\n",
    "        break\n",
    "    print(stuff.upper())\n",
    "    \n",
    "\n",
    "print(\"應用程式結束\")"
   ]
  },
  {
   "cell_type": "code",
   "execution_count": 4,
   "metadata": {},
   "outputs": [
    {
     "name": "stdout",
     "output_type": "stream",
     "text": [
      "輸入格式錯誤,請重新輸入\n"
     ]
    }
   ],
   "source": [
    "while True:\n",
    "    letter = input(\"請輸入整數,輸入[q]離開:\")\n",
    "    if letter == 'q':\n",
    "        break\n",
    "    try:\n",
    "        number = int(letter)\n",
    "    except:\n",
    "        print('輸入格式錯誤,請重新輸入')\n",
    "        continue\n",
    "    \n",
    "    if not number % 2 == 0:\n",
    "        print(number ** 2)"
   ]
  },
  {
   "cell_type": "code",
   "execution_count": 11,
   "metadata": {},
   "outputs": [
    {
     "name": "stdout",
     "output_type": "stream",
     "text": [
      "0.6671840276450242 585.7827607751343 123\n"
     ]
    }
   ],
   "source": [
    "import random\n",
    "x=random.random()\n",
    "y=random.uniform(102.2,812.3)\n",
    "z=random.randint(49,123)\n",
    "print(x,y,z)"
   ]
  },
  {
   "cell_type": "code",
   "execution_count": 12,
   "metadata": {},
   "outputs": [
    {
     "name": "stdout",
     "output_type": "stream",
     "text": [
      "===========猜數字遊戲============\n",
      "\n",
      "再小一點\n",
      "您已經猜了1次\n",
      "再大一點\n",
      "您已經猜了2次\n",
      "再大一點\n",
      "您已經猜了3次\n",
      "格式錯誤\n",
      "再小一點\n",
      "您已經猜了5次\n",
      "再小一點\n",
      "您已經猜了6次\n",
      "再小一點\n",
      "您已經猜了7次\n",
      "賓果!猜對了, 答案是:32\n",
      "您猜了8次\n",
      "應用程式結束\n"
     ]
    }
   ],
   "source": [
    "import random\n",
    "\n",
    "min = 1\n",
    "max = 100\n",
    "target = random.randint(min, max)\n",
    "print(\"===========猜數字遊戲============\\n\")\n",
    "count = 0\n",
    "\n",
    "while True:\n",
    "    count += 1\n",
    "    try:\n",
    "        keyin = int(input(f\"猜數字範圍{min}~{max}:\"))\n",
    "    except:\n",
    "        print(\"格式錯誤\")        \n",
    "        continue\n",
    "\n",
    "    if keyin < min or keyin > max:\n",
    "        print(\"超過範圍\")        \n",
    "        continue\n",
    "\n",
    "    \n",
    "\n",
    "    if keyin == target:\n",
    "        print(f\"賓果!猜對了, 答案是:{keyin}\")\n",
    "        print(f\"您猜了{count}次\")\n",
    "        break\n",
    "    elif keyin > target:\n",
    "        print(\"再小一點\")\n",
    "        max = keyin - 1\n",
    "        \n",
    "    elif keyin < target:\n",
    "        print(\"再大一點\")\n",
    "        min = keyin + 1\n",
    "    print(f\"您已經猜了{count}次\")    \n",
    "        \n",
    "\n",
    "print(\"應用程式結束\")"
   ]
  }
 ],
 "metadata": {
  "kernelspec": {
   "display_name": "Python 3",
   "language": "python",
   "name": "python3"
  },
  "language_info": {
   "codemirror_mode": {
    "name": "ipython",
    "version": 3
   },
   "file_extension": ".py",
   "mimetype": "text/x-python",
   "name": "python",
   "nbconvert_exporter": "python",
   "pygments_lexer": "ipython3",
   "version": "3.11.9"
  }
 },
 "nbformat": 4,
 "nbformat_minor": 2
}
