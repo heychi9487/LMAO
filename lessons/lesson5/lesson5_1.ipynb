{
 "cells": [
  {
   "cell_type": "markdown",
   "metadata": {},
   "source": [
    "raise value_erorr是輸入值有誤造成的錯誤\n",
    "避免value_error就是用\n",
    "try:\n",
    "    輸入值\n",
    "except:\n",
    "    print(\"輸入值有誤\") #except就是讓你出錯會跑的程式\n",
    "else:\n",
    "    ...... #程式沒錯就會跑這裡"
   ]
  },
  {
   "cell_type": "markdown",
   "metadata": {},
   "source": [
    "或者\n",
    "try:\n",
    "    一整串程式\n",
    "except:\n",
    "    除錯信息"
   ]
  },
  {
   "cell_type": "markdown",
   "metadata": {},
   "source": [
    "或者\n",
    "try:\n",
    "    很多程式\n",
    "    if(...):\n",
    "        raise ValueError(\"自己打錯誤的部分\") #也可以是其他的error\n",
    "except Exception as error:  #把真的發生的錯誤除外\n",
    "    print(error)"
   ]
  },
  {
   "cell_type": "code",
   "execution_count": 9,
   "metadata": {},
   "outputs": [
    {
     "name": "stdout",
     "output_type": "stream",
     "text": [
      "invalid literal for int() with base 10: 'bruh'\n",
      "應用程式結束\n"
     ]
    }
   ],
   "source": [
    "#處理使用者輸入的分數是0~300分之間\n",
    "#自已raise錯誤,提早離開應用程式\n",
    "#except:內,接收錯誤的實體\n",
    "try:\n",
    "    score = int(input('請輸入學生分數(最高300分):'))\n",
    "    if score < 0:        \n",
    "        raise ValueError(\"輸入數值要大於等於0\")\n",
    "\n",
    "    if score > 300:\n",
    "        raise ValueError(\"輸入數值要小於等於300\")\n",
    "\n",
    "    is_add = input(\"學生是否符合加分條件?(y,n)\")\n",
    "    if is_add == \"y\": #巢狀判斷\n",
    "        score *= 1.05\n",
    "        if score > 300:\n",
    "            score = 300\n",
    "\n",
    "    print(f\"學生總分:{round(score)}\")\n",
    "except Exception as error:\n",
    "    print(error)    \n",
    "\n",
    "print(\"應用程式結束\")"
   ]
  },
  {
   "cell_type": "code",
   "execution_count": 2,
   "metadata": {},
   "outputs": [
    {
     "name": "stdout",
     "output_type": "stream",
     "text": [
      "False\n",
      "True\n",
      "False\n",
      "True\n"
     ]
    }
   ],
   "source": [
    "print(5<3)\n",
    "print(5>3)\n",
    "print(5==3)\n",
    "print(5!=3)"
   ]
  },
  {
   "cell_type": "code",
   "execution_count": 3,
   "metadata": {},
   "outputs": [
    {
     "name": "stdout",
     "output_type": "stream",
     "text": [
      "未成年\n",
      "應用程式結束\n"
     ]
    }
   ],
   "source": [
    "age = 17\n",
    "\n",
    "if age >= 18: #雙項選擇\n",
    "    print(\"成年\")\n",
    "else:\n",
    "    print(\"未成年\")\n",
    "print(\"應用程式結束\")"
   ]
  },
  {
   "cell_type": "code",
   "execution_count": 10,
   "metadata": {},
   "outputs": [
    {
     "name": "stdout",
     "output_type": "stream",
     "text": [
      "輸入格式有誤\n",
      "應用程式結束\n"
     ]
    }
   ],
   "source": [
    "#處理raise錯誤\n",
    "#try..except...else...\n",
    "\n",
    "try:\n",
    "    score = int(input('請輸入學生分數(最高300分):'))\n",
    "except:\n",
    "    print(\"輸入格式有誤\")\n",
    "else:\n",
    "    is_add = input(\"學生是否符合加分條件?(y,n)\")\n",
    "    if is_add == \"y\": #巢狀判斷\n",
    "        score *= 1.05\n",
    "        if score > 300:\n",
    "            score = 300\n",
    "\n",
    "    print(f\"學生總分:{round(score)}\")\n",
    "\n",
    "print(\"應用程式結束\")"
   ]
  },
  {
   "cell_type": "code",
   "execution_count": 12,
   "metadata": {},
   "outputs": [
    {
     "name": "stdout",
     "output_type": "stream",
     "text": [
      "輸入數值要小於等於300\n"
     ]
    }
   ],
   "source": [
    "score = int(input('請輸入學生分數(最高300分):'))\n",
    "if score < 0:        \n",
    "    print(\"輸入數值要大於等於0\")\n",
    "\n",
    "if score > 300:\n",
    "    print(\"輸入數值要小於等於300\")\n",
    "\n",
    "if score >= 0:\n",
    "    if score <= 300:\n",
    "        print(\"在0~300內\")"
   ]
  },
  {
   "cell_type": "code",
   "execution_count": 13,
   "metadata": {},
   "outputs": [
    {
     "name": "stdout",
     "output_type": "stream",
     "text": [
      "輸入數值要小於等於300\n",
      "應用程式結束\n"
     ]
    }
   ],
   "source": [
    "#處理使用者輸入的分數是0~300分之間\n",
    "#自已raise錯誤,提早離開應用程式\n",
    "#except:內,接收錯誤的實體\n",
    "\n",
    "try:\n",
    "    score = int(input('請輸入學生分數(最高300分):'))\n",
    "    if score < 0:        \n",
    "        raise ValueError(\"輸入數值要大於等於0\")\n",
    "\n",
    "    if score > 300:\n",
    "        raise ValueError(\"輸入數值要小於等於300\")\n",
    "\n",
    "    is_add = input(\"學生是否符合加分條件?(y,n)\")\n",
    "    if is_add == \"y\": #巢狀判斷\n",
    "        score *= 1.05\n",
    "        if score > 300:\n",
    "            score = 300\n",
    "\n",
    "    print(f\"學生總分:{round(score)}\")\n",
    "except Exception as error:\n",
    "    print(error)    \n",
    "\n",
    "print(\"應用程式結束\")"
   ]
  },
  {
   "cell_type": "markdown",
   "metadata": {},
   "source": []
  }
 ],
 "metadata": {
  "kernelspec": {
   "display_name": "Python 3",
   "language": "python",
   "name": "python3"
  },
  "language_info": {
   "codemirror_mode": {
    "name": "ipython",
    "version": 3
   },
   "file_extension": ".py",
   "mimetype": "text/x-python",
   "name": "python",
   "nbconvert_exporter": "python",
   "pygments_lexer": "ipython3",
   "version": "3.11.9"
  }
 },
 "nbformat": 4,
 "nbformat_minor": 2
}
