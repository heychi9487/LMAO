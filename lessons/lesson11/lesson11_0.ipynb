{
 "cells": [
  {
   "cell_type": "code",
   "execution_count": 1,
   "metadata": {},
   "outputs": [
    {
     "data": {
      "text/plain": [
       "'/workspaces/LMAO/lessons/lesson11/__main__'"
      ]
     },
     "execution_count": 1,
     "metadata": {},
     "output_type": "execute_result"
    }
   ],
   "source": [
    "import os\n",
    "\n",
    "os.path.abspath(__name__)"
   ]
  },
  {
   "cell_type": "code",
   "execution_count": 8,
   "metadata": {},
   "outputs": [
    {
     "name": "stdout",
     "output_type": "stream",
     "text": [
      "沒有這個檔\n"
     ]
    }
   ],
   "source": [
    "import os\n",
    "\n",
    "file_path = os.path.abspath(__name__) #檔案的絕對位置\n",
    "current_dir_name = os.path.dirname(file_path) #取得目前的目錄\n",
    "filename = os.path.join(current_dir_name,'data','class.csv') #操作檔案的絕對位置\n",
    "if os.path.isfile(filename):\n",
    "    print(\"有這個檔\")\n",
    "else:\n",
    "    print(\"沒有這個檔\")"
   ]
  },
  {
   "cell_type": "code",
   "execution_count": 5,
   "metadata": {},
   "outputs": [
    {
     "data": {
      "text/plain": [
       "<_io.TextIOWrapper name='/workspaces/LMAO/lessons/lesson11/data/class.csv' mode='r' encoding='UTF-8'>"
      ]
     },
     "execution_count": 5,
     "metadata": {},
     "output_type": "execute_result"
    }
   ],
   "source": [
    "open(filename)"
   ]
  },
  {
   "cell_type": "code",
   "execution_count": 9,
   "metadata": {},
   "outputs": [],
   "source": [
    "file = open(filename,mode='w',encoding='utf-8')\n",
    "file.write('姓名,國文,英文,數學\\n徐國堂,100,100,100\\n')\n",
    "file.close()"
   ]
  },
  {
   "cell_type": "code",
   "execution_count": 12,
   "metadata": {},
   "outputs": [],
   "source": [
    "#自動關閉file物件\n",
    "with open(filename,mode='w',encoding='utf-8') as bruh:\n",
    "    bruh.write('姓名,國文,英文,數學\\n徐國堂,99,99,99\\n')"
   ]
  },
  {
   "cell_type": "markdown",
   "metadata": {},
   "source": [
    "進入字典環節"
   ]
  },
  {
   "cell_type": "code",
   "execution_count": 13,
   "metadata": {},
   "outputs": [
    {
     "data": {
      "text/plain": [
       "{'姓名': '徐國堂', '國文': 96, '數學': 78, '英文': 76}"
      ]
     },
     "execution_count": 13,
     "metadata": {},
     "output_type": "execute_result"
    }
   ],
   "source": [
    "#用符號建字典，1位學生\n",
    "{'姓名':'徐國堂',\n",
    " '國文':96,\n",
    " '數學':78,\n",
    " '英文':76}"
   ]
  },
  {
   "cell_type": "code",
   "execution_count": 14,
   "metadata": {},
   "outputs": [
    {
     "data": {
      "text/plain": [
       "[{'姓名': '徐國堂', '國文': 96, '數學': 78, '英文': 76},\n",
       " {'姓名': 'robert', '國文': 75, '數學': 89, '英文': 65}]"
      ]
     },
     "execution_count": 14,
     "metadata": {},
     "output_type": "execute_result"
    }
   ],
   "source": [
    "#用符號在list中建立字典，2位學生\n",
    "[{'姓名':'徐國堂',\n",
    " '國文':96,\n",
    " '數學':78,\n",
    " '英文':76}\n",
    " ,        #list[],字典{}用逗號隔開可換行\n",
    " {'姓名':'robert',\n",
    " '國文':75,\n",
    " '數學':89,\n",
    " '英文':65}\n",
    "]"
   ]
  },
  {
   "cell_type": "code",
   "execution_count": null,
   "metadata": {},
   "outputs": [],
   "source": [
    "#使用list()建立list實體\n",
    "\n",
    "students = list()  #list.append: 將一個新的項目加到 list 的尾端。等同於 a[len(a):] = [x]。\n",
    "students.append(\n",
    "{'姓名':'徐國堂',\n",
    " '國文':96,\n",
    " '數學':78,\n",
    " '英文':76}\n",
    " )\n",
    "\n",
    "students.append(\n",
    "    {'姓名':'robert',\n",
    "    '國文':75,\n",
    "    '數學':89,\n",
    "    '英文':65}\n",
    ")\n",
    "\n",
    "students"
   ]
  }
 ],
 "metadata": {
  "kernelspec": {
   "display_name": "Python 3",
   "language": "python",
   "name": "python3"
  },
  "language_info": {
   "codemirror_mode": {
    "name": "ipython",
    "version": 3
   },
   "file_extension": ".py",
   "mimetype": "text/x-python",
   "name": "python",
   "nbconvert_exporter": "python",
   "pygments_lexer": "ipython3",
   "version": "3.11.9"
  }
 },
 "nbformat": 4,
 "nbformat_minor": 2
}
