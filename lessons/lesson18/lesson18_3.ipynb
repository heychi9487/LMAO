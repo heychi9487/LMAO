{
 "cells": [
  {
   "cell_type": "code",
   "execution_count": 43,
   "metadata": {},
   "outputs": [],
   "source": [
    "import os\n",
    "current_path = os.path.dirname(os.path.abspath(__name__))\n",
    "folder_path = os.path.join(current_path,'每日各站進出站人數')\n",
    "fileName_list = []\n",
    "for filename in os.listdir(folder_path):\n",
    "    if '每日各站進出站人數' in filename:\n",
    "        fileName_list.append(os.path.join(folder_path,filename))"
   ]
  },
  {
   "cell_type": "code",
   "execution_count": 44,
   "metadata": {},
   "outputs": [
    {
     "name": "stdout",
     "output_type": "stream",
     "text": [
      "<class 'pandas.core.frame.DataFrame'>\n",
      "RangeIndex: 243 entries, 0 to 242\n",
      "Data columns (total 10 columns):\n",
      " #   Column         Non-Null Count  Dtype \n",
      "---  ------         --------------  ----- \n",
      " 0   stationCode    243 non-null    int64 \n",
      " 1   stationName    243 non-null    object\n",
      " 2   stationEName   243 non-null    object\n",
      " 3   name           243 non-null    object\n",
      " 4   ename          243 non-null    object\n",
      " 5   stationAddrTw  243 non-null    object\n",
      " 6   stationAddrEn  243 non-null    object\n",
      " 7   stationTel     243 non-null    object\n",
      " 8   gps            243 non-null    object\n",
      " 9   haveBike       243 non-null    object\n",
      "dtypes: int64(1), object(9)\n",
      "memory usage: 19.1+ KB\n"
     ]
    }
   ],
   "source": [
    "import pandas as pd\n",
    "import json\n",
    "from pprint import pprint\n",
    "#車站名稱\n",
    "stations_path = os.path.join(folder_path,'車站基本資料集.json')\n",
    "with open(stations_path,encoding='utf-8') as file:\n",
    "    station_content = json.load(file)\n",
    "\n",
    "stations_df = pd.DataFrame(station_content)\n",
    "\n",
    "\n",
    "stations_df['stationCode'] = stations_df['stationCode'].astype(int)\n",
    "stations_df.info()"
   ]
  },
  {
   "cell_type": "code",
   "execution_count": 45,
   "metadata": {},
   "outputs": [
    {
     "name": "stdout",
     "output_type": "stream",
     "text": [
      "<class 'pandas.core.frame.DataFrame'>\n",
      "RangeIndex: 60129 entries, 0 to 60128\n",
      "Data columns (total 4 columns):\n",
      " #   Column           Non-Null Count  Dtype\n",
      "---  ------           --------------  -----\n",
      " 0   trnOpDate        60129 non-null  int64\n",
      " 1   staCode          60129 non-null  int64\n",
      " 2   gateInComingCnt  60129 non-null  int64\n",
      " 3   gateOutGoingCnt  60129 non-null  int64\n",
      "dtypes: int64(4)\n",
      "memory usage: 1.8 MB\n"
     ]
    }
   ],
   "source": [
    "inOut_df = pd.read_csv(fileName_list[0])\n",
    "inOut_df.info()"
   ]
  },
  {
   "cell_type": "code",
   "execution_count": 46,
   "metadata": {},
   "outputs": [],
   "source": [
    "df1 = pd.merge(inOut_df,stations_df,left_on='staCode',right_on='stationCode')\n",
    "df2 = df1.reindex(columns=['trnOpDate','stationName','gateInComingCnt','gateOutGoingCnt'])\n",
    "df3 = df2.rename(columns={'trnOpDate':'日期',\n",
    "                    'stationName':'站名',\n",
    "                    'gateInComingCnt':'進站',\n",
    "                    'gateOutGoingCnt':'出站'\n",
    "                    })"
   ]
  },
  {
   "cell_type": "code",
   "execution_count": 47,
   "metadata": {},
   "outputs": [],
   "source": [
    "\n",
    "df3['日期'] = pd.to_datetime(df3['日期'].astype(str))"
   ]
  },
  {
   "cell_type": "code",
   "execution_count": 48,
   "metadata": {},
   "outputs": [
    {
     "name": "stderr",
     "output_type": "stream",
     "text": [
      "C:\\Users\\Administrator\\AppData\\Local\\Temp\\ipykernel_11272\\1914446610.py:1: FutureWarning: The behavior of 'isin' with dtype=datetime64[ns] and castable values (e.g. strings) is deprecated. In a future version, these will not be considered matching by isin. Explicitly cast to the appropriate dtype before calling isin instead.\n",
      "  df3.query('日期==\"2020-01-01\"')\n"
     ]
    },
    {
     "data": {
      "text/html": [
       "<div>\n",
       "<style scoped>\n",
       "    .dataframe tbody tr th:only-of-type {\n",
       "        vertical-align: middle;\n",
       "    }\n",
       "\n",
       "    .dataframe tbody tr th {\n",
       "        vertical-align: top;\n",
       "    }\n",
       "\n",
       "    .dataframe thead th {\n",
       "        text-align: right;\n",
       "    }\n",
       "</style>\n",
       "<table border=\"1\" class=\"dataframe\">\n",
       "  <thead>\n",
       "    <tr style=\"text-align: right;\">\n",
       "      <th></th>\n",
       "      <th>日期</th>\n",
       "      <th>站名</th>\n",
       "      <th>進站</th>\n",
       "      <th>出站</th>\n",
       "    </tr>\n",
       "  </thead>\n",
       "  <tbody>\n",
       "  </tbody>\n",
       "</table>\n",
       "</div>"
      ],
      "text/plain": [
       "Empty DataFrame\n",
       "Columns: [日期, 站名, 進站, 出站]\n",
       "Index: []"
      ]
     },
     "execution_count": 48,
     "metadata": {},
     "output_type": "execute_result"
    }
   ],
   "source": [
    "\n",
    "df3.query('日期==\"2020-01-01\"')"
   ]
  }
 ],
 "metadata": {
  "kernelspec": {
   "display_name": "base",
   "language": "python",
   "name": "python3"
  },
  "language_info": {
   "codemirror_mode": {
    "name": "ipython",
    "version": 3
   },
   "file_extension": ".py",
   "mimetype": "text/x-python",
   "name": "python",
   "nbconvert_exporter": "python",
   "pygments_lexer": "ipython3",
   "version": "3.12.3"
  }
 },
 "nbformat": 4,
 "nbformat_minor": 2
}
