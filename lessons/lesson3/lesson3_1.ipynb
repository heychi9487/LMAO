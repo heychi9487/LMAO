{
 "cells": [
  {
   "cell_type": "code",
   "execution_count": 1,
   "metadata": {},
   "outputs": [
    {
     "name": "stdout",
     "output_type": "stream",
     "text": [
      "bruh\n"
     ]
    }
   ],
   "source": [
    "name = input(\"請輸入姓名:\")\n",
    "print(name)"
   ]
  },
  {
   "cell_type": "code",
   "execution_count": 2,
   "metadata": {},
   "outputs": [
    {
     "data": {
      "text/plain": [
       "5.65"
      ]
     },
     "execution_count": 2,
     "metadata": {},
     "output_type": "execute_result"
    }
   ],
   "source": [
    "eval(\"5++0.65\")"
   ]
  },
  {
   "cell_type": "code",
   "execution_count": 3,
   "metadata": {},
   "outputs": [
    {
     "name": "stdout",
     "output_type": "stream",
     "text": [
      "150\n"
     ]
    }
   ],
   "source": [
    "\n",
    "#請以(複合指定運算子)設計程式,讓用者輸入三個任意數，程式會顯示3數相加的總和\n",
    "total = 0\n",
    "num1 = eval(input(\"請輸入第一個數:\"))\n",
    "total += num1\n",
    "num1 = eval(input(\"請輸入第二個數:\"))\n",
    "total += num1\n",
    "num1 = eval(input(\"請輸入第三個數:\"))\n",
    "total += num1\n",
    "print(total)"
   ]
  },
  {
   "cell_type": "code",
   "execution_count": 7,
   "metadata": {},
   "outputs": [
    {
     "name": "stdout",
     "output_type": "stream",
     "text": [
      "請以(複合指定運算子)設計程式\n",
      "      讓用者輸入三個任意數\n",
      "      程式會顯示3數相加的總和\n",
      "      \\n\n"
     ]
    }
   ],
   "source": [
    "print('''請以(複合指定運算子)設計程式\n",
    "      讓用者輸入三個任意數\n",
    "      程式會顯示3數相加的總和\n",
    "      \\\\n''')"
   ]
  },
  {
   "cell_type": "code",
   "execution_count": 11,
   "metadata": {},
   "outputs": [
    {
     "name": "stdout",
     "output_type": "stream",
     "text": [
      "1-2-3-a-b-cidkbro\n",
      "really?\n"
     ]
    }
   ],
   "source": [
    "print(1,2,3,'a','b','c',sep='-',end='idk')\n",
    "print ('bro')\n",
    "print('really?')"
   ]
  },
  {
   "cell_type": "code",
   "execution_count": 12,
   "metadata": {},
   "outputs": [
    {
     "name": "stdout",
     "output_type": "stream",
     "text": [
      "我有3水果\n",
      "我有4隻動物\n",
      "我有5台車\n",
      "\n"
     ]
    }
   ],
   "source": [
    "fruits = 3\n",
    "animals = 4\n",
    "cars = 5\n",
    "\n",
    "print(\"我有\" + str(fruits) + \"水果\\n我有\" + str(animals) + \"隻動物\\n我有\" + str(cars) + \"台車\\n\")"
   ]
  },
  {
   "cell_type": "code",
   "execution_count": 13,
   "metadata": {},
   "outputs": [
    {
     "name": "stdout",
     "output_type": "stream",
     "text": [
      "我有3水果\n",
      "我有4隻動物\n",
      "我有5台車\n",
      "\n"
     ]
    }
   ],
   "source": [
    "print(f\"我有{fruits}水果\\n我有{animals}隻動物\\n我有{cars}台車\\n\")"
   ]
  },
  {
   "cell_type": "code",
   "execution_count": 14,
   "metadata": {},
   "outputs": [
    {
     "name": "stdout",
     "output_type": "stream",
     "text": [
      "我有3水果\n",
      "我有4隻動物\n",
      "我有5台車\n",
      "\n"
     ]
    }
   ],
   "source": [
    "print(f\"\"\"我有{fruits}水果\n",
    "我有{animals}隻動物\n",
    "我有{cars}台車\\n\"\"\")"
   ]
  },
  {
   "cell_type": "code",
   "execution_count": 15,
   "metadata": {},
   "outputs": [
    {
     "name": "stdout",
     "output_type": "stream",
     "text": [
      "我有3水果\n",
      "我有4隻動物\n",
      "我有5台車\n",
      "\n"
     ]
    }
   ],
   "source": [
    "message = \"\"\n",
    "message += f\"我有{fruits}水果\\n\"\n",
    "message += f\"我有{animals}隻動物\\n\"\n",
    "message += f\"我有{cars}台車\\n\"\n",
    "print(message)"
   ]
  },
  {
   "cell_type": "markdown",
   "metadata": {},
   "source": [
    "今日重點\n",
    "\n",
    "print('''....\n",
    "......''')用來多行表述\n",
    "\n",
    "print(f\"xxx{variable}xxxxxxx{variable}xx\")\n",
    "可以用這種方式去插入變數(字串差補)\n",
    "\n",
    "print(*objects, sep=' ', end='\\n', file=None, flush=False)\n",
    "將 objects 列印到文字資料串流 file，用 sep 分隔並以 end 結尾。如果有給定 sep、end、file 和 flush，那麼它們必須是關鍵字引數的形式。\n",
    "這就是引數名稱，而且只能放在最後面，看看說明書，其他函數也有引數名稱設定\n",
    "\n",
    "\\n 換行; \\t 加空格\n",
    "\n",
    "eval(\"字串\")可以讓字串變成運算式，裡面一定要塞字串!!!\n"
   ]
  }
 ],
 "metadata": {
  "kernelspec": {
   "display_name": "Python 3",
   "language": "python",
   "name": "python3"
  },
  "language_info": {
   "codemirror_mode": {
    "name": "ipython",
    "version": 3
   },
   "file_extension": ".py",
   "mimetype": "text/x-python",
   "name": "python",
   "nbconvert_exporter": "python",
   "pygments_lexer": "ipython3",
   "version": "3.11.9"
  }
 },
 "nbformat": 4,
 "nbformat_minor": 2
}
