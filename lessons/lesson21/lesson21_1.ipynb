{
 "cells": [
  {
   "cell_type": "code",
   "execution_count": 7,
   "metadata": {},
   "outputs": [
    {
     "name": "stdout",
     "output_type": "stream",
     "text": [
      "學習 Python 有很多種方法，以下列出一些建議：\n",
      "\n",
      "**1. 選擇適合你的學習方式：**\n",
      "\n",
      "* **線上課程：** Codecademy, Coursera, edX, Udacity 等平台提供多種 Python 課程，適合初學者。\n",
      "* **書籍：** Python Crash Course, Automate the Boring Stuff with Python 等書籍提供系統的學習內容。\n",
      "* **線上文件：** Python 官方網站 (https://www.python.org/) 提供詳細的語言文檔和教程。\n",
      "* **線上社群：** Reddit, Stack Overflow 等平台可以幫助你解決問題，並與其他 Python 愛好者交流。\n",
      "\n",
      "**2. 定義你的學習目標：**\n",
      "\n",
      "* 你想用 Python 做什麼？網頁開發、數據分析、機器學習、遊戲開發？\n",
      "* 你的學習時間和精力有多少？\n",
      "* 你想以什麼速度學習？\n",
      "\n",
      "**3. 從基礎開始學習：**\n",
      "\n",
      "* **基本語法：** 變數、資料型別、運算子、條件判斷、迴圈等。\n",
      "* **資料結構：** 列表、字典、集合等。\n",
      "* **函數：** 定義和呼叫函數。\n",
      "* **檔案處理：** 讀取和寫入檔案。\n",
      "* **模組和套件：** 導入和使用外部模組。\n",
      "\n",
      "**4. 練習實作：**\n",
      "\n",
      "* 完成線上課程的練習題目。\n",
      "* 嘗試用 Python 解決實際問題。\n",
      "* 參與 Python 程式設計比賽或挑戰。\n",
      "* 嘗試開發自己的應用程式。\n",
      "\n",
      "**5. 持續學習：**\n",
      "\n",
      "* 閱讀 Python 技術文章和部落格。\n",
      "* 參加線上或線下的 Python 研討會。\n",
      "* 參與開源專案。\n",
      "\n",
      "**一些學習資源推薦：**\n",
      "\n",
      "* **Codecademy:** https://www.codecademy.com/\n",
      "* **Coursera:** https://www.coursera.org/\n",
      "* **edX:** https://www.edx.org/\n",
      "* **Udacity:** https://www.udacity.com/\n",
      "* **Python 官方網站:** https://www.python.org/\n",
      "* **Python Crash Course:** https://www.amazon.com/Python-Crash-Course-Second-Edition/dp/1593276036\n",
      "* **Automate the Boring Stuff with Python:** https://automatetheboringstuff.com/\n",
      "\n",
      "**學習 Python 需要時間和耐心，但只要持之以恆，你一定可以成為 Python 高手！**\n",
      "\n"
     ]
    }
   ],
   "source": [
    "from dotenv import load_dotenv\n",
    "import google.generativeai as genai\n",
    "import os\n",
    "load_dotenv()\n",
    "\n",
    "\n",
    "genai.configure(api_key=os.environ['api_key'])\n",
    "model = genai.GenerativeModel('gemini-1.5-flash')\n",
    "response = model.generate_content(\"請問如何學習python?\")\n",
    "print(response.text)"
   ]
  }
 ],
 "metadata": {
  "kernelspec": {
   "display_name": "Python 3",
   "language": "python",
   "name": "python3"
  },
  "language_info": {
   "codemirror_mode": {
    "name": "ipython",
    "version": 3
   },
   "file_extension": ".py",
   "mimetype": "text/x-python",
   "name": "python",
   "nbconvert_exporter": "python",
   "pygments_lexer": "ipython3",
   "version": "3.11.9"
  }
 },
 "nbformat": 4,
 "nbformat_minor": 2
}
