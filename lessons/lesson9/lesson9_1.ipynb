{
 "cells": [
  {
   "cell_type": "markdown",
   "metadata": {},
   "source": [
    "物件導向輸入格式\n",
    " class Anything():    #class 後面習慣接大寫，有class下一行就一定要有 __init__\n",
    "    def __init__(self,xxx)   #一定要寫self,是指\"我這個實體\"，後面的xxx是指該輸入的參數\n",
    "    self.XXX=xxx                #xxx.XXX --> XXX就是指\"我這個實體內的attribute\"\n",
    "    def __repr__(self)       # repr是representation的縮寫，後面只會有self而沒有自定義參數\n",
    "    return f{self.name}\"xxxxxxx\"        #會有回傳值\n",
    "a1=Anything(\"g\")\n",
    "print(a1)                    #得到gxxxxxxx\n",
    "\n",
    "class AAA(Anything):         #AAA繼承Anything的所有功能\n",
    "a2=AAA(\"plz\")\n",
    "print(a2)                    #得到plzxxxxxxx"
   ]
  },
  {
   "cell_type": "code",
   "execution_count": 9,
   "metadata": {},
   "outputs": [
    {
     "name": "stdout",
     "output_type": "stream",
     "text": [
      "張同學\n",
      "78\n",
      "92\n",
      "69\n",
      "我是Student的實體\n",
      "239\n",
      "79.66666666666667\n",
      "=================\n",
      "王同學\n",
      "92\n",
      "79\n",
      "88\n",
      "我是Student的實體\n",
      "259\n",
      "86.33333333333333\n"
     ]
    }
   ],
   "source": [
    "#透過自定的__init__(self),建立自訂的初始化\n",
    "class Person():\n",
    "    def __init__(self,n:str):\n",
    "        self.name = n\n",
    "\n",
    "    def __repr__(self):\n",
    "        return f\"我是person的實體,我的名字是:{self.name}\"\n",
    "class Student(Person):\n",
    "    def __init__(self,n:str, ch:int, en:int, ma:int):\n",
    "        super().__init__(n=n)       #把student輸入的n(前)傳回Person的n(後)，然後讓他跑 Person的 __init__\n",
    "        self.chinese = ch\n",
    "        self.english = en\n",
    "        self.math = ma\n",
    "\n",
    "    def __repr__(self):\n",
    "        return \"我是Student的實體\"\n",
    "    \n",
    "     ## 定義 實體方法\n",
    "\n",
    "    def sum(self) -> int:\n",
    "        return self.chinese + self.english + self.math\n",
    "    \n",
    "    def average(self) -> float:\n",
    "        return self.sum() / 3\n",
    "\n",
    "\n",
    "s1 = Student(\"張同學\",ch=78,en=92,ma=69)\n",
    "print(s1.name)\n",
    "print(s1.chinese)\n",
    "print(s1.english)\n",
    "print(s1.math)\n",
    "print(s1)\n",
    "print(s1.sum())\n",
    "print(s1.average())\n",
    "\n",
    "print(\"=================\")\n",
    "s2 = Student(\"王同學\",ch=92,en=79,ma=88)\n",
    "print(s2.name)\n",
    "print(s2.chinese)\n",
    "print(s2.english)\n",
    "print(s2.math)\n",
    "print(s2)\n",
    "print(s2.sum())\n",
    "print(s2.average())"
   ]
  },
  {
   "cell_type": "code",
   "execution_count": 3,
   "metadata": {},
   "outputs": [
    {
     "name": "stdout",
     "output_type": "stream",
     "text": [
      "我是person的實體,我的名字是:Robert Hsu\n",
      "我是person的實體,我的名字是:徐國堂\n"
     ]
    }
   ],
   "source": [
    "#透過自定的__init__(self),建立自訂的初始化\n",
    "class Person():\n",
    "    def __init__(self,n:str):\n",
    "        self.name = n\n",
    "\n",
    "    def __repr__(self):\n",
    "        return f\"我是person的實體,我的名字是:{self.name}\"\n",
    "\n",
    "    \n",
    "\n",
    "p1 = Person(\"Robert Hsu\")\n",
    "print(p1)\n",
    "\n",
    "\n",
    "p2 = Person(n=\"徐國堂\")\n",
    "print(p2)"
   ]
  },
  {
   "cell_type": "code",
   "execution_count": 4,
   "metadata": {},
   "outputs": [
    {
     "name": "stdout",
     "output_type": "stream",
     "text": [
      "張同學\n",
      "王同學\n"
     ]
    }
   ],
   "source": [
    "class Student(Person):\n",
    "    pass\n",
    "\n",
    "s1 = Student(\"張同學\")\n",
    "print(s1.name)\n",
    "\n",
    "s2 = Student(\"王同學\")\n",
    "print(s2.name)"
   ]
  },
  {
   "cell_type": "code",
   "execution_count": 2,
   "metadata": {},
   "outputs": [
    {
     "ename": "TypeError",
     "evalue": "unsupported operand type(s) for +: 'Person' and 'int'",
     "output_type": "error",
     "traceback": [
      "\u001b[0;31m---------------------------------------------------------------------------\u001b[0m",
      "\u001b[0;31mTypeError\u001b[0m                                 Traceback (most recent call last)",
      "Cell \u001b[0;32mIn[2], line 5\u001b[0m\n\u001b[1;32m      3\u001b[0m p1\u001b[38;5;241m=\u001b[39mPerson()\n\u001b[1;32m      4\u001b[0m p2\u001b[38;5;241m=\u001b[39mPerson()\n\u001b[0;32m----> 5\u001b[0m \u001b[38;5;28mprint\u001b[39m(\u001b[43mp1\u001b[49m\u001b[38;5;241;43m+\u001b[39;49m\u001b[38;5;241;43m1\u001b[39;49m)\n",
      "\u001b[0;31mTypeError\u001b[0m: unsupported operand type(s) for +: 'Person' and 'int'"
     ]
    }
   ],
   "source": [
    "class Person():                 \n",
    "    def __init__(self,,n:str)   #一定要寫self,是指\"我這個實體\"，後面的n是指該輸入的參數\n",
    "        self.name=n             #self.name --> name就是指\"我這個實體內的attribute\"\n",
    "p1=Person(\"a\")                  #\"a\"輸入參數\n",
    "p2=Person(\"b\")\n",
    "print(p1.name)\n",
    "print(p2.name)"
   ]
  }
 ],
 "metadata": {
  "kernelspec": {
   "display_name": "Python 3",
   "language": "python",
   "name": "python3"
  },
  "language_info": {
   "codemirror_mode": {
    "name": "ipython",
    "version": 3
   },
   "file_extension": ".py",
   "mimetype": "text/x-python",
   "name": "python",
   "nbconvert_exporter": "python",
   "pygments_lexer": "ipython3",
   "version": "3.11.9"
  }
 },
 "nbformat": 4,
 "nbformat_minor": 2
}
