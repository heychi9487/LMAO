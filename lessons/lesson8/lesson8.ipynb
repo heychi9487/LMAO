{
 "cells": [
  {
   "cell_type": "markdown",
   "metadata": {},
   "source": [
    "\n",
    "#自訂module\n",
    "def myFunction(x, y):\n",
    "    return x ** 2 * y ** 2 + x / 3 + y\n",
    "======================================\n",
    "module本身是.py檔\n",
    "所以在別的地方寫完一個函式\n",
    "就可以這樣import進來\n",
    "======================================\n",
    "執行.py檔要在資料夾地方按右鍵\n",
    "開整合式終端機\n",
    "然後打檔名\n",
    "======================================\n",
    "自訂module可以塞入\n",
    "py檔、function、常數、class\n",
    "======================================\n",
    "def menu(wine, main_dish,dessert='ice cream'):\n",
    "    print(f\"酒類:{wine}\")\n",
    "    print(f\"主餐:{main_dish}\")\n",
    "    print(f\"點心:{dessert}\")\n",
    "\n",
    "menu('moonshine','steak') <------------引數直呼叫\n",
    "menu(wine='moonshine,main_dish='steak') <-----------------引數名稱呼叫\n",
    "menu('moonshine',dessert='bruh','steak')   !!!位置引數不可以出現在引數名稱之後\n",
    "menu('moonshine',dessert='bruh',main_dish='steak')  這樣才對\n",
    "=====================================\n",
    "pythom 3.8 後才有這個功能\n",
    "def menu(wine, main_dish,dessert='ice cream',/,a=\"/後面的引數要加東西不然會判定錯誤!\"):    <------斜線之前只能用引數名稱呼叫\n",
    "    print(f\"酒類:{wine}\")\n",
    "    print(f\"主餐:{entree}\")\n",
    "    print(f\"點心:{dessert}\")\n",
    "    print(f\"IDC:{a}\")\n",
    "=====================================\n",
    "# 參數前有*符號->沒有限定數量的引數值呼叫\n",
    "# 參數前有**符號->沒有限定數量的引數值名稱呼叫\n",
    "def print_all(*args,**kwargs):\n",
    "    print(args)\n",
    "    print(kwargs)\n",
    "\n",
    "print_all(1, 2, 3, 'a', 'b', 'c', True,one=1, two=2, code='tw')"
   ]
  },
  {
   "cell_type": "code",
   "execution_count": 22,
   "metadata": {},
   "outputs": [
    {
     "name": "stdout",
     "output_type": "stream",
     "text": [
      "(1, 2, 3, 'a', 'b', 'c', True)\n"
     ]
    }
   ],
   "source": [
    "# 參數前有*符號->沒有限定數量的引數值呼叫\n",
    "\n",
    "def print_args(*args):\n",
    "    print(args)\n",
    "\n",
    "print_args(1, 2, 3, 'a', 'b', 'c', True)"
   ]
  },
  {
   "cell_type": "code",
   "execution_count": 23,
   "metadata": {},
   "outputs": [
    {
     "name": "stdout",
     "output_type": "stream",
     "text": [
      "{'one': 1, 'two': 2, 'code': 'tw'}\n"
     ]
    }
   ],
   "source": [
    "# 參數前有**符號->沒有限定數量的引數值名稱呼叫\n",
    "def print_kwargs(**kwargs):\n",
    "    print(kwargs)\n",
    "\n",
    "print_kwargs(one=1, two=2, code='tw')"
   ]
  },
  {
   "cell_type": "code",
   "execution_count": 24,
   "metadata": {},
   "outputs": [
    {
     "name": "stdout",
     "output_type": "stream",
     "text": [
      "(1, 2, 3, 'a', 'b', 'c', True)\n",
      "{'one': 1, 'two': 2, 'code': 'tw'}\n"
     ]
    }
   ],
   "source": [
    "def print_all(*args,**kwargs):\n",
    "    print(args)\n",
    "    print(kwargs)\n",
    "\n",
    "print_all(1, 2, 3, 'a', 'b', 'c', True,one=1, two=2, code='tw')"
   ]
  },
  {
   "cell_type": "code",
   "execution_count": 21,
   "metadata": {},
   "outputs": [
    {
     "name": "stdout",
     "output_type": "stream",
     "text": [
      "酒類:a\n",
      "主餐:b\n",
      "點心:c\n",
      "IDC:後面要加\n"
     ]
    }
   ],
   "source": [
    "def menu(wine, main_dish,dessert='ice cream',/,a=\"後面要加\"):   # <------斜線之前只能用引數名稱呼叫\n",
    "    print(f\"酒類:{wine}\")\n",
    "    print(f\"主餐:{main_dish}\")\n",
    "    print(f\"點心:{dessert}\")\n",
    "    print(f\"IDC:{a}\")\n",
    "menu('a','b','c')"
   ]
  },
  {
   "cell_type": "code",
   "execution_count": 11,
   "metadata": {},
   "outputs": [
    {
     "name": "stdout",
     "output_type": "stream",
     "text": [
      "酒類:moonshine\n",
      "主餐:steak\n",
      "點心:bruh\n",
      "酒類:moonshine\n",
      "主餐:steak\n",
      "點心:bruh\n"
     ]
    }
   ],
   "source": [
    "def menu(wine, main_dish,dessert='ice cream'):\n",
    "    print(f\"酒類:{wine}\")\n",
    "    print(f\"主餐:{main_dish}\")\n",
    "    print(f\"點心:{dessert}\")\n",
    "\n",
    "menu('moonshine','steak','bruh')\n",
    "menu('moonshine',dessert='bruh',main_dish='steak')"
   ]
  },
  {
   "cell_type": "code",
   "execution_count": 1,
   "metadata": {},
   "outputs": [
    {
     "name": "stdout",
     "output_type": "stream",
     "text": [
      "40016.666666666664\n",
      "6.333333333333333\n",
      "40023.333333333336\n"
     ]
    }
   ],
   "source": [
    "#自訂funciton\n",
    "def myFunction(x, y):\n",
    "    return x ** 2 * y ** 2 + x / 3 + y\n",
    "\n",
    "\n",
    "#呼叫function\n",
    "print(myFunction(20, 10))\n",
    "print(myFunction(1, 2))\n",
    "print(myFunction(10, 20))"
   ]
  },
  {
   "cell_type": "code",
   "execution_count": 5,
   "metadata": {},
   "outputs": [],
   "source": [
    "def menu(wine, entree, dessert):\n",
    "    print(f\"酒類:{wine}\")\n",
    "    print(f\"主餐:{entree}\")\n",
    "    print(f\"點心:{dessert}\")\n"
   ]
  },
  {
   "cell_type": "code",
   "execution_count": 3,
   "metadata": {},
   "outputs": [
    {
     "name": "stdout",
     "output_type": "stream",
     "text": [
      "酒類:白酒\n",
      "主餐:牛排\n",
      "點心:蛋糕\n"
     ]
    }
   ],
   "source": [
    "menu('白酒','牛排',\"蛋糕\")"
   ]
  },
  {
   "cell_type": "code",
   "execution_count": 4,
   "metadata": {},
   "outputs": [
    {
     "name": "stdout",
     "output_type": "stream",
     "text": [
      "酒類:白酒\n",
      "主餐:牛排\n",
      "點心:蛋糕\n",
      "酒類:白酒\n",
      "主餐:牛排\n",
      "點心:蛋糕\n",
      "酒類:白酒\n",
      "主餐:牛排\n",
      "點心:蛋糕\n"
     ]
    }
   ],
   "source": [
    "#引數名稱的呼叫,可以不依照參數的順序\n",
    "menu(entree='牛排',dessert='蛋糕',wine='白酒')\n",
    "#混合呼叫\n",
    "#前面一定要引數值呼叫\n",
    "#後面要引數名稱的呼叫\n",
    "#使用引數名稱呼叫後,後面全部要使用引數名稱的呼叫\n",
    "\n",
    "menu('白酒','牛排',dessert='蛋糕')\n",
    "menu('白酒',dessert='蛋糕',entree='牛排')"
   ]
  }
 ],
 "metadata": {
  "kernelspec": {
   "display_name": "Python 3",
   "language": "python",
   "name": "python3"
  },
  "language_info": {
   "codemirror_mode": {
    "name": "ipython",
    "version": 3
   },
   "file_extension": ".py",
   "mimetype": "text/x-python",
   "name": "python",
   "nbconvert_exporter": "python",
   "pygments_lexer": "ipython3",
   "version": "3.11.9"
  }
 },
 "nbformat": 4,
 "nbformat_minor": 2
}
