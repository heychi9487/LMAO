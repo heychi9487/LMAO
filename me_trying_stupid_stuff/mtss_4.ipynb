{
 "cells": [
  {
   "cell_type": "code",
   "execution_count": 3,
   "metadata": {},
   "outputs": [
    {
     "name": "stdout",
     "output_type": "stream",
     "text": [
      "請輸入2數,求2數公因數:\n",
      "1 2 5 10 25 50 "
     ]
    }
   ],
   "source": [
    "print(\"請輸入2數,求2數公因數:\")\n",
    "n = int(input('請輸入第1個數:'))\n",
    "m = int(input('請輸入第2個數:'))\n",
    "max=n if n>m else m\n",
    "for i in range(1, max+1):\n",
    "    if n%i==0 and m%i==0:\n",
    "        print(i,end=\" \")"
   ]
  },
  {
   "cell_type": "code",
   "execution_count": 5,
   "metadata": {},
   "outputs": [
    {
     "name": "stdout",
     "output_type": "stream",
     "text": [
      "First element: 1\n",
      "Second element: 2\n",
      "List after appending 10: [1, 2, 3, 4, 5, 10]\n",
      "List after removing 3: [1, 2, 4, 5, 10]\n",
      "1\n",
      "2\n",
      "4\n",
      "5\n",
      "10\n",
      "Squared numbers: [1, 4, 16, 25, 100]\n",
      "4 is in the list.\n",
      "Length of the list: 5\n"
     ]
    }
   ],
   "source": [
    "# Creating a list of numbers\n",
    "numbers = [1, 2, 3, 4, 5]\n",
    "\n",
    "# Accessing elements of the list\n",
    "print(\"First element:\", numbers[0])   # Output: 1\n",
    "print(\"Second element:\", numbers[1])  # Output: 2\n",
    "\n",
    "# Adding elements to the list\n",
    "numbers.append(10)\n",
    "print(\"List after appending 10:\", numbers)  # Output: [1, 2, 3, 4, 5, 10]\n",
    "\n",
    "# Removing elements from the list\n",
    "numbers.remove(3)\n",
    "print(\"List after removing 3:\", numbers)  # Output: [1, 2, 4, 5, 6]\n",
    "\n",
    "# Iterating over a list\n",
    "for num in numbers:\n",
    "    print(num)\n",
    "\n",
    "# List comprehension\n",
    "squared_numbers = [num ** 2 for num in numbers]\n",
    "print(\"Squared numbers:\", squared_numbers)  # Output: [1, 4, 16, 25, 36]\n",
    "\n",
    "# Checking if an element exists in the list\n",
    "if 4 in numbers:\n",
    "    print(\"4 is in the list.\")\n",
    "\n",
    "# Length of the list\n",
    "print(\"Length of the list:\", len(numbers))  # Output: 5\n"
   ]
  },
  {
   "cell_type": "code",
   "execution_count": 1,
   "metadata": {},
   "outputs": [
    {
     "name": "stdout",
     "output_type": "stream",
     "text": [
      "[5, 4, 19, 343, 186, 1235, 462, 261, 781, 4668]\n",
      "[4, 5, 19, 186, 261, 343, 462, 781, 1235, 4668]\n"
     ]
    }
   ],
   "source": [
    "#列10個數字\n",
    "list=[]\n",
    "for i in range(1,11,1):\n",
    "    x=int(input(f\"what is your {i} number\"))\n",
    "    list.append(x)\n",
    "print(list)\n",
    "#比大小\n",
    "min=[]\n",
    "Max=[]\n",
    "temp=0\n",
    "for k in range(0,10,1):\n",
    "    for j in range(0,9,1):\n",
    "        if list[j]>list[j+1]:    #如果要交換資料\n",
    "            temp=list[j]\n",
    "            list[j]=list[j+1]\n",
    "            list[j+1]=temp\n",
    "print(list)"
   ]
  }
 ],
 "metadata": {
  "kernelspec": {
   "display_name": "Python 3",
   "language": "python",
   "name": "python3"
  },
  "language_info": {
   "codemirror_mode": {
    "name": "ipython",
    "version": 3
   },
   "file_extension": ".py",
   "mimetype": "text/x-python",
   "name": "python",
   "nbconvert_exporter": "python",
   "pygments_lexer": "ipython3",
   "version": "3.11.9"
  }
 },
 "nbformat": 4,
 "nbformat_minor": 2
}
