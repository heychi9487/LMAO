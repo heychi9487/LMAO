{
 "cells": [
  {
   "cell_type": "code",
   "execution_count": 20,
   "metadata": {},
   "outputs": [
    {
     "name": "stdout",
     "output_type": "stream",
     "text": [
      "name?height?weight?\n",
      "r你好，\n",
      "你身高是172公分，\n",
      "你體重是62公斤\n",
      "你的BMI是20.96\n",
      "體重適中\n"
     ]
    }
   ],
   "source": [
    "import pyinputplus as pyip\n",
    "class Person():\n",
    "    def __init__(self,name:str,height:int,weight:int):\n",
    "        self.name = name\n",
    "        self.h = height\n",
    "        self.w = weight\n",
    "    \n",
    "    def __repr__(self):\n",
    "        return f\"\"\"\n",
    "{self.name}你好，\n",
    "你身高是{self.h}公分，\n",
    "你體重是{self.w}公斤\n",
    "你的BMI是\"\"\"\n",
    "        \n",
    "\n",
    "    def get_BMI(self) -> float:\n",
    "        return round(self.w/(self.h/100)**2,2)\n",
    "    def get_status(self) -> str:\n",
    "        if self.get_BMI()<18.5:\n",
    "            return(\"體重過輕\")   \n",
    "        elif self.get_BMI()<24:\n",
    "            return(\"體重適中\")\n",
    "        else:\n",
    "            return(\"體重過重\")\n",
    "a1=Person(pyip.inputStr(\"name?\"),pyip.inputInt(\"height?\"),pyip.inputInt(\"weight?\"))\n",
    "print(a1,end=\"\")\n",
    "print(a1.get_BMI())\n",
    "print(a1.get_status())"
   ]
  }
 ],
 "metadata": {
  "kernelspec": {
   "display_name": "Python 3",
   "language": "python",
   "name": "python3"
  },
  "language_info": {
   "codemirror_mode": {
    "name": "ipython",
    "version": 3
   },
   "file_extension": ".py",
   "mimetype": "text/x-python",
   "name": "python",
   "nbconvert_exporter": "python",
   "pygments_lexer": "ipython3",
   "version": "3.11.9"
  }
 },
 "nbformat": 4,
 "nbformat_minor": 2
}
