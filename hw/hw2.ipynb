{
 "cells": [
  {
   "cell_type": "code",
   "execution_count": 7,
   "metadata": {},
   "outputs": [
    {
     "name": "stdout",
     "output_type": "stream",
     "text": [
      "invalid literal for int() with base 10: '1.5'\n"
     ]
    }
   ],
   "source": [
    "try:\n",
    "    number = int(input(\"請輸入整數:\"))\n",
    "    if(number>0):\n",
    "        print(f\"{number}是正整數\")\n",
    "    if(number<0):\n",
    "        print(f\"{number}是負整數\")\n",
    "    if(number==0):\n",
    "        print(f\"{number}是0\")\n",
    "    if(number%2==1):\n",
    "        print(f\"{number}是奇數\")\n",
    "    if(number%2==0):\n",
    "        print(f\"{number}是偶數\")\n",
    "except Exception as error:\n",
    "    print(error)"
   ]
  }
 ],
 "metadata": {
  "kernelspec": {
   "display_name": "Python 3",
   "language": "python",
   "name": "python3"
  },
  "language_info": {
   "codemirror_mode": {
    "name": "ipython",
    "version": 3
   },
   "file_extension": ".py",
   "mimetype": "text/x-python",
   "name": "python",
   "nbconvert_exporter": "python",
   "pygments_lexer": "ipython3",
   "version": "3.11.9"
  }
 },
 "nbformat": 4,
 "nbformat_minor": 2
}
