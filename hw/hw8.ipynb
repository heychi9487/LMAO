{
 "cells": [
  {
   "cell_type": "code",
   "execution_count": 4,
   "metadata": {},
   "outputs": [],
   "source": [
    "people=[]\n",
    "import random\n",
    "with open (\"names.txt\",encoding='utf-8') as file:\n",
    "    contents:str = file.read()\n",
    "    names:list[str] = contents.split(sep='\\n')\n",
    "    people_names = random.choices(names,k=50)\n",
    "\n",
    "\n",
    "for name in people_names:\n",
    "    height=random.randint(150,190)\n",
    "    weight=random.randint(50,90)\n",
    "\n",
    "    people.append({'姓名':name,\n",
    "                   '身高':height,\n",
    "                   '體重':weight})\n",
    "import os\n",
    "file_path = os.path.abspath(__name__) #檔案的絕對位置\n",
    "current_dir_name = os.path.dirname(file_path) #取得目前的目錄\n",
    "file_position = os.path.join(current_dir_name,'data','people.csv') #操作檔案的絕對位置\n",
    "file_position\n",
    "\n",
    "import csv\n",
    "with open(file_position,mode='w',newline='') as file:\n",
    "    writer = csv.DictWriter(file,['姓名','身高','體重'])\n",
    "    writer.writeheader()\n",
    "    writer.writerows(people)"
   ]
  }
 ],
 "metadata": {
  "kernelspec": {
   "display_name": "Python 3",
   "language": "python",
   "name": "python3"
  },
  "language_info": {
   "codemirror_mode": {
    "name": "ipython",
    "version": 3
   },
   "file_extension": ".py",
   "mimetype": "text/x-python",
   "name": "python",
   "nbconvert_exporter": "python",
   "pygments_lexer": "ipython3",
   "version": "3.11.9"
  }
 },
 "nbformat": 4,
 "nbformat_minor": 2
}
