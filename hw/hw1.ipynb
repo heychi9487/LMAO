{
 "cells": [
  {
   "cell_type": "code",
   "execution_count": 3,
   "metadata": {},
   "outputs": [
    {
     "name": "stdout",
     "output_type": "stream",
     "text": [
      "raylee您好\n",
      "身高是:172公分\n",
      "體重是:62公斤\n",
      "BMI:20.9572742022715\n"
     ]
    }
   ],
   "source": [
    "name=input(\"請輸入姓名:\")\n",
    "height=eval(input(\"請輸入身高(cm)\"))\n",
    "kilos=eval(input(\"請輸入體重(kg)\"))\n",
    "BMI=kilos/(height/100)**2\n",
    "print(f\"\"\"{name}您好\n",
    "身高是:{height}公分\n",
    "體重是:{kilos}公斤\n",
    "BMI:{BMI}\"\"\")"
   ]
  }
 ],
 "metadata": {
  "kernelspec": {
   "display_name": "Python 3",
   "language": "python",
   "name": "python3"
  },
  "language_info": {
   "codemirror_mode": {
    "name": "ipython",
    "version": 3
   },
   "file_extension": ".py",
   "mimetype": "text/x-python",
   "name": "python",
   "nbconvert_exporter": "python",
   "pygments_lexer": "ipython3",
   "version": "3.11.9"
  }
 },
 "nbformat": 4,
 "nbformat_minor": 2
}
