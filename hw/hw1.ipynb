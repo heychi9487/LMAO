{
 "cells": [
  {
   "cell_type": "code",
   "execution_count": 3,
   "metadata": {},
   "outputs": [
    {
     "name": "stdout",
     "output_type": "stream",
     "text": [
      "r您好\n",
      "    身高是:172公分\n",
      "    體重是:62公斤\n",
      "    BMI:20.9572742022715\n",
      "體重適中\n",
      "pay attention\n",
      "pay attention\n",
      "r您好\n",
      "    身高是:172公分\n",
      "    體重是:62公斤\n",
      "    BMI:20.9572742022715\n",
      "體重適中\n",
      "應用程式結束\n"
     ]
    }
   ],
   "source": [
    "while True:\n",
    "    try:\n",
    "        name=input(\"請輸入姓名:\")\n",
    "        height=eval(input(\"請輸入身高(cm)\"))\n",
    "        kilos=eval(input(\"請輸入體重(kg)\"))\n",
    "    except:\n",
    "        print('輸入格式錯誤,請重新輸入')\n",
    "        continue\n",
    "    else:\n",
    "        BMI=kilos/(height/100)**2\n",
    "        print(f\"\"\"{name}您好\n",
    "    身高是:{height}公分\n",
    "    體重是:{kilos}公斤\n",
    "    BMI:{BMI}\"\"\")\n",
    "        if BMI<18.5:\n",
    "                print(\"體重過輕\")   \n",
    "        elif BMI<24:\n",
    "            print(\"體重適中\")\n",
    "        else:\n",
    "            print(\"體重過重\")\n",
    "        while True:\n",
    "            x=input(\"escape press q, continue press c\")\n",
    "            if x!=\"q\" and x!=\"c\":\n",
    "                print(\"pay attention\")\n",
    "                continue\n",
    "            else:\n",
    "                break\n",
    "        if x==\"q\":\n",
    "            break\n",
    "print(\"應用程式結束\")\n",
    "             \n"
   ]
  }
 ],
 "metadata": {
  "kernelspec": {
   "display_name": "Python 3",
   "language": "python",
   "name": "python3"
  },
  "language_info": {
   "codemirror_mode": {
    "name": "ipython",
    "version": 3
   },
   "file_extension": ".py",
   "mimetype": "text/x-python",
   "name": "python",
   "nbconvert_exporter": "python",
   "pygments_lexer": "ipython3",
   "version": "3.11.9"
  }
 },
 "nbformat": 4,
 "nbformat_minor": 2
}
