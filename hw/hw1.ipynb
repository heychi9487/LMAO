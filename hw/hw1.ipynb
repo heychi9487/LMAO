{
 "cells": [
  {
   "cell_type": "code",
   "execution_count": 2,
   "metadata": {},
   "outputs": [
    {
     "name": "stdout",
     "output_type": "stream",
     "text": [
      "請輸入姓名:R\n",
      "請輸入身高(cm)172\n",
      "請輸入體重(kg)62\n",
      "R您好\n",
      "    身高是:172公分\n",
      "    體重是:62公斤\n",
      "    BMI:20.9572742022715\n",
      "體重適中\n",
      "continue? escape press N, continue press Y請輸入姓名:172\n",
      "請輸入身高(cm)172\n",
      "請輸入體重(kg)62\n",
      "172您好\n",
      "    身高是:172公分\n",
      "    體重是:62公斤\n",
      "    BMI:20.9572742022715\n",
      "體重適中\n",
      "continue? escape press N, continue press Y應用程式結束\n"
     ]
    }
   ],
   "source": [
    "import pyinputplus as pyip\n",
    "while True:\n",
    "    name=pyip.inputStr(\"請輸入姓名:\")\n",
    "    print(name)\n",
    "    height=pyip.inputNum(\"請輸入身高(cm)\")\n",
    "    print(height)\n",
    "    kilos=pyip.inputNum(\"請輸入體重(kg)\")\n",
    "    print(kilos)\n",
    "    BMI=kilos/(height/100)**2\n",
    "    print(f\"\"\"{name}您好\n",
    "    身高是:{height}公分\n",
    "    體重是:{kilos}公斤\n",
    "    BMI:{BMI}\"\"\")\n",
    "    if BMI<18.5:\n",
    "            print(\"體重過輕\")   \n",
    "    elif BMI<24:\n",
    "        print(\"體重適中\")\n",
    "    else:\n",
    "        print(\"體重過重\")\n",
    "    x=pyip.inputYesNo(\"continue? escape press N, continue press Y\")\n",
    "    print()\n",
    "    if x==\"no\":\n",
    "        break\n",
    "print()\n",
    "print(\"應用程式結束\")\n",
    "             \n"
   ]
  }
 ],
 "metadata": {
  "kernelspec": {
   "display_name": "Python 3",
   "language": "python",
   "name": "python3"
  },
  "language_info": {
   "codemirror_mode": {
    "name": "ipython",
    "version": 3
   },
   "file_extension": ".py",
   "mimetype": "text/x-python",
   "name": "python",
   "nbconvert_exporter": "python",
   "pygments_lexer": "ipython3",
   "version": "3.11.9"
  }
 },
 "nbformat": 4,
 "nbformat_minor": 2
}
