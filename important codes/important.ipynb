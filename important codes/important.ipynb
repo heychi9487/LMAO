{
 "cells": [
  {
   "cell_type": "code",
   "execution_count": null,
   "metadata": {},
   "outputs": [],
   "source": [
    "import random\n",
    "with open (\"names.txt\",encoding='utf-8') as file:\n",
    "    contents:str = file.read()\n",
    "    names:list[str] = contents.split(sep='\\n')\n",
    "    students_names = random.choices(names,k=50)\n",
    "students_names"
   ]
  },
  {
   "cell_type": "markdown",
   "metadata": {},
   "source": [
    "實體有 attribute property 和 method \n",
    "module有 class function 和常數\n",
    "set 沒有順序，但不會重複"
   ]
  }
 ],
 "metadata": {
  "language_info": {
   "name": "python"
  }
 },
 "nbformat": 4,
 "nbformat_minor": 2
}
